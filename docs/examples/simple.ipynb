{
 "cells": [
  {
   "cell_type": "markdown",
   "id": "6e1c6d5a-41e4-4704-ae00-528fc16c17a3",
   "metadata": {},
   "source": [
    "# 3D reconstruction\n",
    "---"
   ]
  },
  {
   "cell_type": "code",
   "execution_count": 50,
   "id": "6eeb6ce3-3528-47f0-8871-b111aba9042b",
   "metadata": {
    "tags": []
   },
   "outputs": [],
   "source": [
    "import matplotlib.pyplot as plt\n",
    "\n",
    "from p3droslo.observation import DataCube"
   ]
  },
  {
   "cell_type": "code",
   "execution_count": 9,
   "id": "678aa28c-d2e3-4680-9d45-7e83e210e20e",
   "metadata": {},
   "outputs": [],
   "source": [
    "file     = '/STER/frederikd/Deprojection/data/observations/IKTau_CO3-2.fits'\n",
    "datacube = DataCube(file)"
   ]
  },
  {
   "cell_type": "code",
   "execution_count": 11,
   "id": "b630a019-5352-4f7c-99d7-957ae9d4b7c1",
   "metadata": {},
   "outputs": [
    {
     "data": {
      "application/vnd.jupyter.widget-view+json": {
       "model_id": "fb6721068c14448cb337bae423f4fc1a",
       "version_major": 2,
       "version_minor": 0
      },
      "text/plain": [
       "interactive(children=(IntSlider(value=30, description='f', max=60), Output()), _dom_classes=('widget-interact'…"
      ]
     },
     "metadata": {},
     "output_type": "display_data"
    },
    {
     "data": {
      "text/plain": [
       "<function p3droslo.observation.DataCube.plot_channel_maps.<locals>.plot(f)>"
      ]
     },
     "execution_count": 11,
     "metadata": {},
     "output_type": "execute_result"
    }
   ],
   "source": [
    "datacube.plot_channel_maps()"
   ]
  },
  {
   "cell_type": "code",
   "execution_count": 15,
   "id": "446d4778-5c01-4c3a-8e23-dd3155c9fc96",
   "metadata": {},
   "outputs": [
    {
     "data": {
      "text/plain": [
       "3997696"
      ]
     },
     "execution_count": 15,
     "metadata": {},
     "output_type": "execute_result"
    }
   ],
   "source": [
    "datacube.img.size"
   ]
  },
  {
   "cell_type": "code",
   "execution_count": 28,
   "id": "fc0380be-72c8-4a44-80d2-9a5e81baf43d",
   "metadata": {},
   "outputs": [],
   "source": [
    "import torch\n",
    "import torch.nn as nn\n",
    "\n",
    "from torch.utils.data import Dataset, DataLoader\n",
    "from torch.optim      import Adam, LBFGS"
   ]
  },
  {
   "cell_type": "code",
   "execution_count": 4,
   "id": "1a13fe47-7e41-4572-913a-ffd3241c1b35",
   "metadata": {},
   "outputs": [],
   "source": [
    "# Model Hyperparameters\n",
    "cuda   = False\n",
    "DEVICE = torch.device(\"cuda\" if cuda else \"cpu\")"
   ]
  },
  {
   "cell_type": "code",
   "execution_count": 23,
   "id": "8d44f658-cf62-4e43-86bc-bbe2c8b96e0c",
   "metadata": {},
   "outputs": [],
   "source": [
    "class TensorModel():\n",
    "    \"\"\"\n",
    "    A deterministic model in which every variable is represented by a 3-tensor.\n",
    "    \"\"\"\n",
    "    \n",
    "    def __init__(self, dim):\n",
    "        \n",
    "        self.dim = dim\n",
    "        \n",
    "        self.density     = torch.rand(self.dim, requires_grad=True)\n",
    "        self.temperature = torch.rand(self.dim, requires_grad=True)\n",
    "    \n",
    "    def parameters()\n",
    "\n",
    "dim = (100, 100, 100)"
   ]
  },
  {
   "cell_type": "code",
   "execution_count": 35,
   "id": "b35296b8-d6b5-4ae1-b711-b70a894f2767",
   "metadata": {},
   "outputs": [],
   "source": [
    "density = torch.rand(dim, requires_grad=True)\n",
    "ones    = torch.ones(dim)"
   ]
  },
  {
   "cell_type": "code",
   "execution_count": 55,
   "id": "66d24221-175b-433c-9d9a-07a2ca091c70",
   "metadata": {},
   "outputs": [],
   "source": [
    "optimizer = Adam([density], lr=1.0e-2)"
   ]
  },
  {
   "cell_type": "code",
   "execution_count": 60,
   "id": "c1640ed0-52c0-4d83-88aa-000c98b9951e",
   "metadata": {},
   "outputs": [],
   "source": [
    "losses = []\n",
    "\n",
    "for _ in range(100):\n",
    "\n",
    "    loss = nn.functional.mse_loss(density, ones)\n",
    "    \n",
    "    losses.append(loss.item())\n",
    "    \n",
    "    optimizer.zero_grad()\n",
    "    loss     .backward ()\n",
    "    optimizer.step     ()"
   ]
  },
  {
   "cell_type": "code",
   "execution_count": 61,
   "id": "3b11863f-2308-41f0-957b-5fd5a9e1f6ff",
   "metadata": {},
   "outputs": [
    {
     "data": {
      "image/png": "[encoded data removed]",
      "text/plain": [
       "<Figure size 640x480 with 1 Axes>"
      ]
     },
     "metadata": {},
     "output_type": "display_data"
    }
   ],
   "source": [
    "plt.plot(losses)\n",
    "plt.yscale('log')"
   ]
  },
  {
   "cell_type": "code",
   "execution_count": 62,
   "id": "f7225fc2-f689-4028-825f-991930ff7f29",
   "metadata": {},
   "outputs": [
    {
     "data": {
      "text/plain": [
       "tensor([[[1.0000, 1.0002, 1.0000,  ..., 1.0000, 0.9980, 1.0000],\n",
       "         [1.0000, 1.0000, 1.0000,  ..., 0.9999, 1.0000, 1.0001],\n",
       "         [1.0000, 1.0000, 1.0000,  ..., 1.0000, 1.0000, 1.0000],\n",
       "         ...,\n",
       "         [1.0000, 0.9979, 1.0000,  ..., 1.0002, 0.9989, 1.0002],\n",
       "         [1.0000, 0.9997, 0.9985,  ..., 1.0000, 1.0000, 1.0000],\n",
       "         [1.0000, 1.0000, 1.0000,  ..., 1.0000, 1.0000, 1.0000]],\n",
       "\n",
       "        [[1.0000, 1.0000, 0.9999,  ..., 1.0000, 1.0000, 1.0000],\n",
       "         [1.0002, 1.0002, 1.0002,  ..., 1.0000, 1.0000, 1.0002],\n",
       "         [1.0000, 1.0001, 1.0000,  ..., 1.0000, 1.0000, 1.0000],\n",
       "         ...,\n",
       "         [1.0000, 1.0000, 1.0000,  ..., 1.0000, 1.0000, 1.0000],\n",
       "         [0.9999, 1.0000, 1.0000,  ..., 0.9981, 1.0000, 1.0000],\n",
       "         [1.0000, 1.0000, 1.0000,  ..., 0.9964, 1.0000, 1.0000]],\n",
       "\n",
       "        [[0.9952, 1.0000, 1.0000,  ..., 0.9980, 1.0000, 0.9977],\n",
       "         [1.0000, 0.9999, 1.0001,  ..., 0.9999, 1.0000, 1.0001],\n",
       "         [1.0000, 1.0000, 1.0000,  ..., 1.0000, 0.9999, 1.0000],\n",
       "         ...,\n",
       "         [1.0000, 1.0000, 1.0002,  ..., 1.0000, 1.0002, 1.0000],\n",
       "         [1.0000, 1.0000, 1.0000,  ..., 1.0000, 1.0000, 0.9991],\n",
       "         [0.9999, 0.9996, 1.0000,  ..., 0.9999, 1.0001, 0.9999]],\n",
       "\n",
       "        ...,\n",
       "\n",
       "        [[1.0000, 1.0000, 1.0000,  ..., 1.0000, 1.0000, 1.0000],\n",
       "         [1.0000, 0.9992, 1.0002,  ..., 1.0000, 0.9989, 1.0000],\n",
       "         [0.9999, 1.0000, 1.0000,  ..., 1.0000, 1.0000, 1.0000],\n",
       "         ...,\n",
       "         [0.9975, 0.9953, 1.0000,  ..., 1.0000, 1.0000, 1.0000],\n",
       "         [1.0000, 1.0000, 1.0000,  ..., 0.9956, 1.0001, 1.0000],\n",
       "         [1.0001, 1.0000, 1.0000,  ..., 0.9971, 1.0000, 1.0000]],\n",
       "\n",
       "        [[1.0000, 1.0000, 1.0000,  ..., 1.0000, 1.0000, 1.0000],\n",
       "         [1.0000, 1.0000, 1.0000,  ..., 1.0000, 1.0002, 1.0000],\n",
       "         [1.0000, 1.0000, 1.0000,  ..., 1.0000, 1.0000, 0.9997],\n",
       "         ...,\n",
       "         [1.0000, 1.0000, 1.0000,  ..., 1.0002, 1.0000, 1.0000],\n",
       "         [1.0002, 1.0002, 1.0000,  ..., 1.0000, 1.0000, 1.0000],\n",
       "         [1.0000, 0.9956, 1.0002,  ..., 0.9979, 1.0000, 1.0000]],\n",
       "\n",
       "        [[1.0000, 1.0000, 1.0000,  ..., 1.0000, 1.0000, 1.0000],\n",
       "         [1.0000, 1.0000, 1.0000,  ..., 0.9968, 1.0000, 0.9994],\n",
       "         [1.0000, 1.0000, 1.0000,  ..., 1.0002, 1.0002, 1.0000],\n",
       "         ...,\n",
       "         [1.0000, 1.0002, 1.0000,  ..., 1.0000, 1.0000, 1.0002],\n",
       "         [1.0002, 1.0000, 1.0000,  ..., 1.0000, 1.0000, 1.0000],\n",
       "         [0.9999, 1.0000, 1.0000,  ..., 1.0000, 1.0000, 1.0000]]],\n",
       "       requires_grad=True)"
      ]
     },
     "execution_count": 62,
     "metadata": {},
     "output_type": "execute_result"
    }
   ],
   "source": [
    "density"
   ]
  },
  {
   "cell_type": "code",
   "execution_count": null,
   "id": "a83437c2-6c57-44c0-aec1-71da0301e347",
   "metadata": {},
   "outputs": [],
   "source": [
    "class Data(Dataset):\n",
    "    def __init__(self, datacube):\n",
    "        self.datacube = datacube\n",
    "    \n",
    "    def __len__(self):\n",
    "        return self.datacube.img.size\n",
    "\n",
    "    def __getitem__(self, idx):\n",
    "        return self.datacube.img[idx]"
   ]
  }
 ],
 "metadata": {
  "kernelspec": {
   "display_name": "Python 3 (ipykernel)",
   "language": "python",
   "name": "python3"
  },
  "language_info": {
   "codemirror_mode": {
    "name": "ipython",
    "version": 3
   },
   "file_extension": ".py",
   "mimetype": "text/x-python",
   "name": "python",
   "nbconvert_exporter": "python",
   "pygments_lexer": "ipython3",
   "version": "3.10.6"
  }
 },
 "nbformat": 4,
 "nbformat_minor": 5
}
